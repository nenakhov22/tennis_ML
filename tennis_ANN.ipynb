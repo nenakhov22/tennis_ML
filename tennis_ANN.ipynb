{
 "cells": [
  {
   "cell_type": "code",
   "execution_count": null,
   "id": "154589dd",
   "metadata": {},
   "outputs": [],
   "source": [
    "pip install numpy==1.26.4"
   ]
  },
  {
   "cell_type": "code",
   "execution_count": 1,
   "id": "4546c04f",
   "metadata": {},
   "outputs": [
    {
     "name": "stdout",
     "output_type": "stream",
     "text": [
      "Requirement already satisfied: nbimporter in d:\\anaconda\\lib\\site-packages (0.3.4)\n",
      "Note: you may need to restart the kernel to use updated packages.\n"
     ]
    }
   ],
   "source": [
    "pip install nbimporter\n"
   ]
  },
  {
   "cell_type": "code",
   "execution_count": 4,
   "id": "07aac0ac",
   "metadata": {},
   "outputs": [],
   "source": [
    "import nbimporter\n",
    "from features_create import player_statistics2, player_statistics_last"
   ]
  },
  {
   "cell_type": "code",
   "execution_count": 1,
   "id": "493beb5f",
   "metadata": {},
   "outputs": [],
   "source": [
    "import pandas as pd\n",
    "import scipy.stats as sps\n",
    "import numpy as np\n",
    "import matplotlib.pyplot as plt\n",
    "\n",
    "from sklearn.neural_network import MLPClassifier\n",
    "from sklearn.model_selection import train_test_split\n",
    "from sklearn import metrics\n",
    "from sklearn.model_selection import GridSearchCV\n",
    "from sklearn.pipeline import Pipeline\n",
    "from sklearn.preprocessing import StandardScaler\n",
    "\n"
   ]
  },
  {
   "cell_type": "code",
   "execution_count": 2,
   "id": "75d0dedb",
   "metadata": {},
   "outputs": [
    {
     "name": "stdout",
     "output_type": "stream",
     "text": [
      "Requirement already satisfied: scikit-learn in d:\\anaconda\\envs\\new_env\\lib\\site-packages (1.5.1)\n",
      "Requirement already satisfied: joblib>=1.2.0 in d:\\anaconda\\envs\\new_env\\lib\\site-packages (from scikit-learn) (1.4.2)\n",
      "Requirement already satisfied: scipy>=1.6.0 in d:\\anaconda\\envs\\new_env\\lib\\site-packages (from scikit-learn) (1.13.0)\n",
      "Requirement already satisfied: numpy>=1.19.5 in d:\\anaconda\\envs\\new_env\\lib\\site-packages (from scikit-learn) (1.26.4)\n",
      "Requirement already satisfied: threadpoolctl>=3.1.0 in d:\\anaconda\\envs\\new_env\\lib\\site-packages (from scikit-learn) (3.5.0)\n",
      "Note: you may need to restart the kernel to use updated packages.\n"
     ]
    }
   ],
   "source": [
    "pip install scikit-learn"
   ]
  },
  {
   "cell_type": "code",
   "execution_count": 3,
   "id": "a6851101",
   "metadata": {},
   "outputs": [
    {
     "name": "stdout",
     "output_type": "stream",
     "text": [
      "Collecting xgboost\n",
      "  Using cached xgboost-2.1.1-py3-none-win_amd64.whl (124.9 MB)\n",
      "Requirement already satisfied: numpy in d:\\anaconda\\envs\\new_env\\lib\\site-packages (from xgboost) (1.26.4)\n",
      "Requirement already satisfied: scipy in d:\\anaconda\\envs\\new_env\\lib\\site-packages (from xgboost) (1.13.0)\n",
      "Installing collected packages: xgboost\n",
      "Successfully installed xgboost-2.1.1\n",
      "Note: you may need to restart the kernel to use updated packages.\n"
     ]
    }
   ],
   "source": [
    "pip install xgboost"
   ]
  },
  {
   "cell_type": "code",
   "execution_count": 4,
   "id": "fd05e5f2",
   "metadata": {},
   "outputs": [
    {
     "name": "stdout",
     "output_type": "stream",
     "text": [
      "Requirement already satisfied: scikeras in d:\\anaconda\\envs\\new_env\\lib\\site-packages (0.13.0)\n",
      "Requirement already satisfied: scikit-learn>=1.4.2 in d:\\anaconda\\envs\\new_env\\lib\\site-packages (from scikeras) (1.5.1)\n",
      "Requirement already satisfied: keras>=3.2.0 in d:\\anaconda\\envs\\new_env\\lib\\site-packages (from scikeras) (3.4.1)\n",
      "Requirement already satisfied: numpy in d:\\anaconda\\envs\\new_env\\lib\\site-packages (from keras>=3.2.0->scikeras) (1.26.4)\n",
      "Requirement already satisfied: rich in d:\\anaconda\\envs\\new_env\\lib\\site-packages (from keras>=3.2.0->scikeras) (13.7.1)\n",
      "Requirement already satisfied: absl-py in d:\\anaconda\\envs\\new_env\\lib\\site-packages (from keras>=3.2.0->scikeras) (2.1.0)\n",
      "Requirement already satisfied: optree in d:\\anaconda\\envs\\new_env\\lib\\site-packages (from keras>=3.2.0->scikeras) (0.12.1)\n",
      "Requirement already satisfied: ml-dtypes in d:\\anaconda\\envs\\new_env\\lib\\site-packages (from keras>=3.2.0->scikeras) (0.4.0)\n",
      "Requirement already satisfied: packaging in d:\\anaconda\\envs\\new_env\\lib\\site-packages (from keras>=3.2.0->scikeras) (21.3)\n",
      "Requirement already satisfied: h5py in d:\\anaconda\\envs\\new_env\\lib\\site-packages (from keras>=3.2.0->scikeras) (3.11.0)\n",
      "Requirement already satisfied: namex in d:\\anaconda\\envs\\new_env\\lib\\site-packages (from keras>=3.2.0->scikeras) (0.0.8)\n",
      "Requirement already satisfied: joblib>=1.2.0 in d:\\anaconda\\envs\\new_env\\lib\\site-packages (from scikit-learn>=1.4.2->scikeras) (1.4.2)\n",
      "Requirement already satisfied: threadpoolctl>=3.1.0 in d:\\anaconda\\envs\\new_env\\lib\\site-packages (from scikit-learn>=1.4.2->scikeras) (3.5.0)\n",
      "Requirement already satisfied: scipy>=1.6.0 in d:\\anaconda\\envs\\new_env\\lib\\site-packages (from scikit-learn>=1.4.2->scikeras) (1.13.0)\n",
      "Requirement already satisfied: typing-extensions>=4.5.0 in d:\\anaconda\\envs\\new_env\\lib\\site-packages (from optree->keras>=3.2.0->scikeras) (4.12.2)\n",
      "Requirement already satisfied: pyparsing!=3.0.5,>=2.0.2 in d:\\anaconda\\envs\\new_env\\lib\\site-packages (from packaging->keras>=3.2.0->scikeras) (3.0.4)\n",
      "Requirement already satisfied: markdown-it-py>=2.2.0 in d:\\anaconda\\envs\\new_env\\lib\\site-packages (from rich->keras>=3.2.0->scikeras) (3.0.0)\n",
      "Requirement already satisfied: pygments<3.0.0,>=2.13.0 in d:\\anaconda\\envs\\new_env\\lib\\site-packages (from rich->keras>=3.2.0->scikeras) (2.18.0)\n",
      "Requirement already satisfied: mdurl~=0.1 in d:\\anaconda\\envs\\new_env\\lib\\site-packages (from markdown-it-py>=2.2.0->rich->keras>=3.2.0->scikeras) (0.1.2)\n",
      "Note: you may need to restart the kernel to use updated packages.\n"
     ]
    }
   ],
   "source": [
    "pip install scikeras"
   ]
  },
  {
   "cell_type": "code",
   "execution_count": 5,
   "id": "c754507e",
   "metadata": {},
   "outputs": [
    {
     "name": "stdout",
     "output_type": "stream",
     "text": [
      "Requirement already satisfied: tensorflow in d:\\anaconda\\envs\\new_env\\lib\\site-packages (2.17.0)\n",
      "Requirement already satisfied: tensorflow-intel==2.17.0 in d:\\anaconda\\envs\\new_env\\lib\\site-packages (from tensorflow) (2.17.0)\n",
      "Note: you may need to restart the kernel to use updated packages.Requirement already satisfied: gast!=0.5.0,!=0.5.1,!=0.5.2,>=0.2.1 in d:\\anaconda\\envs\\new_env\\lib\\site-packages (from tensorflow-intel==2.17.0->tensorflow) (0.6.0)\n",
      "Requirement already satisfied: libclang>=13.0.0 in d:\\anaconda\\envs\\new_env\\lib\\site-packages (from tensorflow-intel==2.17.0->tensorflow) (18.1.1)\n",
      "Requirement already satisfied: keras>=3.2.0 in d:\\anaconda\\envs\\new_env\\lib\\site-packages (from tensorflow-intel==2.17.0->tensorflow) (3.4.1)\n",
      "Requirement already satisfied: wrapt>=1.11.0 in d:\\anaconda\\envs\\new_env\\lib\\site-packages (from tensorflow-intel==2.17.0->tensorflow) (1.16.0)\n",
      "Requirement already satisfied: tensorboard<2.18,>=2.17 in d:\\anaconda\\envs\\new_env\\lib\\site-packages (from tensorflow-intel==2.17.0->tensorflow) (2.17.0)\n",
      "Requirement already satisfied: h5py>=3.10.0 in d:\\anaconda\\envs\\new_env\\lib\\site-packages (from tensorflow-intel==2.17.0->tensorflow) (3.11.0)\n",
      "Requirement already satisfied: requests<3,>=2.21.0 in d:\\anaconda\\envs\\new_env\\lib\\site-packages (from tensorflow-intel==2.17.0->tensorflow) (2.32.3)\n",
      "Requirement already satisfied: packaging in d:\\anaconda\\envs\\new_env\\lib\\site-packages (from tensorflow-intel==2.17.0->tensorflow) (21.3)\n",
      "Requirement already satisfied: tensorflow-io-gcs-filesystem>=0.23.1 in d:\\anaconda\\envs\\new_env\\lib\\site-packages (from tensorflow-intel==2.17.0->tensorflow) (0.31.0)\n",
      "Requirement already satisfied: protobuf!=4.21.0,!=4.21.1,!=4.21.2,!=4.21.3,!=4.21.4,!=4.21.5,<5.0.0dev,>=3.20.3 in d:\\anaconda\\envs\\new_env\\lib\\site-packages (from tensorflow-intel==2.17.0->tensorflow) (4.25.3)\n",
      "Requirement already satisfied: flatbuffers>=24.3.25 in d:\\anaconda\\envs\\new_env\\lib\\site-packages (from tensorflow-intel==2.17.0->tensorflow) (24.3.25)\n",
      "Requirement already satisfied: absl-py>=1.0.0 in d:\\anaconda\\envs\\new_env\\lib\\site-packages (from tensorflow-intel==2.17.0->tensorflow) (2.1.0)\n",
      "Requirement already satisfied: grpcio<2.0,>=1.24.3 in d:\\anaconda\\envs\\new_env\\lib\\site-packages (from tensorflow-intel==2.17.0->tensorflow) (1.65.1)\n",
      "Requirement already satisfied: google-pasta>=0.1.1 in d:\\anaconda\\envs\\new_env\\lib\\site-packages (from tensorflow-intel==2.17.0->tensorflow) (0.2.0)\n",
      "Requirement already satisfied: astunparse>=1.6.0 in d:\\anaconda\\envs\\new_env\\lib\\site-packages (from tensorflow-intel==2.17.0->tensorflow) (1.6.3)\n",
      "Requirement already satisfied: six>=1.12.0 in d:\\anaconda\\envs\\new_env\\lib\\site-packages (from tensorflow-intel==2.17.0->tensorflow) (1.16.0)\n",
      "Requirement already satisfied: termcolor>=1.1.0 in d:\\anaconda\\envs\\new_env\\lib\\site-packages (from tensorflow-intel==2.17.0->tensorflow) (2.4.0)\n",
      "Requirement already satisfied: typing-extensions>=3.6.6 in d:\\anaconda\\envs\\new_env\\lib\\site-packages (from tensorflow-intel==2.17.0->tensorflow) (4.12.2)\n",
      "Requirement already satisfied: setuptools in d:\\anaconda\\envs\\new_env\\lib\\site-packages (from tensorflow-intel==2.17.0->tensorflow) (61.2.0)\n",
      "Requirement already satisfied: opt-einsum>=2.3.2 in d:\\anaconda\\envs\\new_env\\lib\\site-packages (from tensorflow-intel==2.17.0->tensorflow) (3.3.0)\n",
      "Requirement already satisfied: ml-dtypes<0.5.0,>=0.3.1 in d:\\anaconda\\envs\\new_env\\lib\\site-packages (from tensorflow-intel==2.17.0->tensorflow) (0.4.0)\n",
      "\n",
      "Requirement already satisfied: numpy<2.0.0,>=1.23.5 in d:\\anaconda\\envs\\new_env\\lib\\site-packages (from tensorflow-intel==2.17.0->tensorflow) (1.26.4)\n",
      "Requirement already satisfied: wheel<1.0,>=0.23.0 in d:\\anaconda\\envs\\new_env\\lib\\site-packages (from astunparse>=1.6.0->tensorflow-intel==2.17.0->tensorflow) (0.37.1)\n",
      "Requirement already satisfied: namex in d:\\anaconda\\envs\\new_env\\lib\\site-packages (from keras>=3.2.0->tensorflow-intel==2.17.0->tensorflow) (0.0.8)\n",
      "Requirement already satisfied: rich in d:\\anaconda\\envs\\new_env\\lib\\site-packages (from keras>=3.2.0->tensorflow-intel==2.17.0->tensorflow) (13.7.1)\n",
      "Requirement already satisfied: optree in d:\\anaconda\\envs\\new_env\\lib\\site-packages (from keras>=3.2.0->tensorflow-intel==2.17.0->tensorflow) (0.12.1)\n",
      "Requirement already satisfied: idna<4,>=2.5 in d:\\anaconda\\envs\\new_env\\lib\\site-packages (from requests<3,>=2.21.0->tensorflow-intel==2.17.0->tensorflow) (3.7)\n",
      "Requirement already satisfied: certifi>=2017.4.17 in d:\\anaconda\\envs\\new_env\\lib\\site-packages (from requests<3,>=2.21.0->tensorflow-intel==2.17.0->tensorflow) (2022.6.15)\n",
      "Requirement already satisfied: urllib3<3,>=1.21.1 in d:\\anaconda\\envs\\new_env\\lib\\site-packages (from requests<3,>=2.21.0->tensorflow-intel==2.17.0->tensorflow) (2.2.2)\n",
      "Requirement already satisfied: charset-normalizer<4,>=2 in d:\\anaconda\\envs\\new_env\\lib\\site-packages (from requests<3,>=2.21.0->tensorflow-intel==2.17.0->tensorflow) (3.3.2)\n",
      "Requirement already satisfied: werkzeug>=1.0.1 in d:\\anaconda\\envs\\new_env\\lib\\site-packages (from tensorboard<2.18,>=2.17->tensorflow-intel==2.17.0->tensorflow) (3.0.3)\n",
      "Requirement already satisfied: tensorboard-data-server<0.8.0,>=0.7.0 in d:\\anaconda\\envs\\new_env\\lib\\site-packages (from tensorboard<2.18,>=2.17->tensorflow-intel==2.17.0->tensorflow) (0.7.2)\n",
      "Requirement already satisfied: markdown>=2.6.8 in d:\\anaconda\\envs\\new_env\\lib\\site-packages (from tensorboard<2.18,>=2.17->tensorflow-intel==2.17.0->tensorflow) (3.6)\n",
      "Requirement already satisfied: pyparsing!=3.0.5,>=2.0.2 in d:\\anaconda\\envs\\new_env\\lib\\site-packages (from packaging->tensorflow-intel==2.17.0->tensorflow) (3.0.4)\n",
      "Requirement already satisfied: MarkupSafe>=2.1.1 in d:\\anaconda\\envs\\new_env\\lib\\site-packages (from werkzeug>=1.0.1->tensorboard<2.18,>=2.17->tensorflow-intel==2.17.0->tensorflow) (2.1.1)\n",
      "Requirement already satisfied: markdown-it-py>=2.2.0 in d:\\anaconda\\envs\\new_env\\lib\\site-packages (from rich->keras>=3.2.0->tensorflow-intel==2.17.0->tensorflow) (3.0.0)\n",
      "Requirement already satisfied: pygments<3.0.0,>=2.13.0 in d:\\anaconda\\envs\\new_env\\lib\\site-packages (from rich->keras>=3.2.0->tensorflow-intel==2.17.0->tensorflow) (2.18.0)\n",
      "Requirement already satisfied: mdurl~=0.1 in d:\\anaconda\\envs\\new_env\\lib\\site-packages (from markdown-it-py>=2.2.0->rich->keras>=3.2.0->tensorflow-intel==2.17.0->tensorflow) (0.1.2)\n"
     ]
    }
   ],
   "source": [
    "pip install tensorflow"
   ]
  },
  {
   "cell_type": "code",
   "execution_count": 2,
   "id": "cf829a9c",
   "metadata": {},
   "outputs": [],
   "source": [
    "from keras.models import Sequential\n",
    "from keras.layers import Dense\n",
    "from keras.utils import to_categorical\n",
    "from scikeras.wrappers import KerasClassifier\n",
    "import tensorflow as tf\n",
    "import keras\n",
    "\n",
    "import xgboost as xgb\n",
    "from sklearn.ensemble import RandomForestClassifier as RFC\n",
    "from sklearn.metrics import accuracy_score\n",
    "from sklearn.metrics import classification_report, confusion_matrix\n",
    "from sklearn import svm\n",
    "from sklearn.linear_model import LogisticRegression"
   ]
  },
  {
   "cell_type": "code",
   "execution_count": 3,
   "id": "865ad137",
   "metadata": {},
   "outputs": [],
   "source": [
    "#if u import data then use this cell\n",
    "df_features = pd.read_csv('X_data_new.csv', delimiter = ',', index_col=0)\n",
    "y = pd.read_csv('Y_data_new.csv', delimiter =',', index_col=0)\n",
    "\n",
    "i = np.arange(len(df_features))\n",
    "np.random.shuffle(i)\n",
    "df_features = df_features.iloc[i]\n",
    "y = y.iloc[i]\n",
    "\n",
    "X_train, X_test, y_train, y_test = train_test_split(\n",
    "    df_features, y, test_size=0.1, random_state=0)\n",
    "\n"
   ]
  },
  {
   "cell_type": "code",
   "execution_count": 8,
   "id": "c4bc36b6",
   "metadata": {},
   "outputs": [
    {
     "data": {
      "text/plain": [
       "{'xgb__colsample_bytree': 0.5,\n",
       " 'xgb__learning_rate': 0.1,\n",
       " 'xgb__max_depth': 20,\n",
       " 'xgb__n_estimators': 100,\n",
       " 'xgb__objective': 'binary:logistic',\n",
       " 'xgb__reg_alpha': 0,\n",
       " 'xgb__reg_lambda': 10,\n",
       " 'xgb__subsample': 1}"
      ]
     },
     "execution_count": 8,
     "metadata": {},
     "output_type": "execute_result"
    }
   ],
   "source": [
    "params = {\n",
    "   'xgb__n_estimators': [25, 50, 100, 150, 200],\n",
    "   'xgb__max_depth': [3,7,10,15,20],\n",
    "   'xgb__learning_rate': [0.1, 0.3, 0.8],\n",
    "   'xgb__objective':['binary:logistic'],\n",
    "   'xgb__subsample': [0.5, 0.7, 1],\n",
    "   'xgb__colsample_bytree': [0.5, 0.7, 1],\n",
    "    'xgb__reg_alpha': [0, 1, 10],\n",
    "    'xgb__reg_lambda': [0, 1, 10]\n",
    "    }\n",
    "xgb_model = xgb.XGBClassifier()\n",
    "xgb_pipe = Pipeline(steps=[\n",
    "    ('scaler', StandardScaler()),\n",
    "    ('xgb', xgb_model)])\n",
    "grid = GridSearchCV(xgb_pipe, params, cv=5, n_jobs=-1, scoring='accuracy')\n",
    "grid_result = grid.fit(X_train, y_train)\n",
    "\n",
    "grid_result.best_params_"
   ]
  },
  {
   "cell_type": "code",
   "execution_count": 51,
   "id": "a07ed65e",
   "metadata": {},
   "outputs": [
    {
     "data": {
      "text/plain": [
       "0.6791012777070291"
      ]
     },
     "execution_count": 51,
     "metadata": {},
     "output_type": "execute_result"
    }
   ],
   "source": [
    "grid_result.best_score_ "
   ]
  },
  {
   "cell_type": "code",
   "execution_count": 55,
   "id": "7c8a2dcc",
   "metadata": {},
   "outputs": [
    {
     "data": {
      "text/plain": [
       "{'0': 2311.0,\n",
       " '1': 2607.0,\n",
       " '2': 2192.0,\n",
       " '3': 2346.0,\n",
       " '4': 2449.0,\n",
       " '5': 2084.0,\n",
       " '6': 2815.0,\n",
       " '7': 2598.0,\n",
       " '8': 2769.0,\n",
       " '9': 2674.0,\n",
       " '10': 2395.0,\n",
       " '11': 212.0,\n",
       " '12': 182.0,\n",
       " '14': 254.0,\n",
       " '15': 2479.0,\n",
       " '16': 2740.0,\n",
       " '17': 2734.0,\n",
       " '18': 1972.0,\n",
       " '19': 2134.0,\n",
       " '20': 2115.0,\n",
       " '21': 1813.0,\n",
       " '22': 1623.0,\n",
       " '23': 2749.0,\n",
       " '24': 2786.0,\n",
       " '25': 2468.0,\n",
       " '26': 716.0,\n",
       " '27': 2980.0}"
      ]
     },
     "execution_count": 55,
     "metadata": {},
     "output_type": "execute_result"
    }
   ],
   "source": [
    "xgb_model.get_booster().get_score(importance_type='weight')\n",
    "#shows how much every features participated in splitting a node"
   ]
  },
  {
   "cell_type": "code",
   "execution_count": 76,
   "id": "ff8299d0",
   "metadata": {},
   "outputs": [
    {
     "data": {
      "text/plain": [
       "{'rfc__bootstrap': True,\n",
       " 'rfc__criterion': 'entropy',\n",
       " 'rfc__max_depth': 52,\n",
       " 'rfc__max_features': 'log2',\n",
       " 'rfc__min_samples_leaf': 5,\n",
       " 'rfc__min_samples_split': 5,\n",
       " 'rfc__n_estimators': 350}"
      ]
     },
     "execution_count": 76,
     "metadata": {},
     "output_type": "execute_result"
    }
   ],
   "source": [
    "params = {\n",
    "    'rfc__n_estimators':[int(x) for x in np.linspace(start = 50, stop = 400, num = 8)],\n",
    "    'rfc__criterion': ['entropy','gini'],\n",
    "    'rfc__max_depth': [int(x) for x in np.linspace(start = 10, stop = 60, num = 8)],\n",
    "    'rfc__min_samples_split': [int(x) for x in np.linspace(start = 5, stop = 30, num = 8)],\n",
    "    'rfc__min_samples_leaf': [int(x) for x in np.linspace(start = 5, stop = 30, num = 8)],\n",
    "    'rfc__bootstrap': [True],\n",
    "    'rfc__max_features': ['log2', 'sqrt']\n",
    "}\n",
    "rfc_model = RFC()\n",
    "rfc_pipe = Pipeline(steps=[\n",
    "    ('scaler', StandardScaler()),\n",
    "    ('rfc', rfc_model)])\n",
    "grid = GridSearchCV(rfc_pipe, params, cv=5, n_jobs=-1, scoring='accuracy')\n",
    "grid_result = grid.fit(X_train, y_train['0'].values)\n",
    "grid_result.best_params_"
   ]
  },
  {
   "cell_type": "code",
   "execution_count": 77,
   "id": "1fc7ff80",
   "metadata": {},
   "outputs": [
    {
     "data": {
      "text/plain": [
       "0.6717292051414389"
      ]
     },
     "execution_count": 77,
     "metadata": {},
     "output_type": "execute_result"
    }
   ],
   "source": [
    "grid_result.best_score_ #accuracy"
   ]
  },
  {
   "cell_type": "code",
   "execution_count": 18,
   "id": "b1a79e42",
   "metadata": {},
   "outputs": [
    {
     "data": {
      "text/plain": [
       "{'logreg__C': 0.01, 'logreg__penalty': 'l1', 'logreg__tol': 0.0001}"
      ]
     },
     "execution_count": 18,
     "metadata": {},
     "output_type": "execute_result"
    }
   ],
   "source": [
    "params = {\"logreg__C\":np.logspace(-3,3,7), \"logreg__penalty\":[\"l1\",\"l2\"], 'logreg__tol': [0.00001,0.0001,0.001,0.01,0.1,1] }\n",
    "logreg = LogisticRegression(solver = 'saga', max_iter = 100000, random_state = np.random.randint(1000))\n",
    "\n",
    "logreg_pipe = Pipeline(steps=[\n",
    "    ('scaler', StandardScaler()),\n",
    "    ('logreg', logreg)])\n",
    "\n",
    "grid3 = GridSearchCV(logreg_pipe, params, cv=5, n_jobs=-1, scoring='accuracy')\n",
    "\n",
    "\n",
    "grid3_result = grid3.fit(X_train, y_train['0'].values)\n",
    "\n",
    "grid3_result.best_params_"
   ]
  },
  {
   "cell_type": "code",
   "execution_count": 19,
   "id": "2a04797b",
   "metadata": {},
   "outputs": [
    {
     "data": {
      "text/plain": [
       "0.6282594777424727"
      ]
     },
     "execution_count": 19,
     "metadata": {},
     "output_type": "execute_result"
    }
   ],
   "source": [
    "grid3_result.best_score_"
   ]
  },
  {
   "cell_type": "code",
   "execution_count": 11,
   "id": "136dc661",
   "metadata": {},
   "outputs": [
    {
     "name": "stderr",
     "output_type": "stream",
     "text": [
      "D:\\anaconda\\envs\\new_env\\lib\\site-packages\\numpy\\ma\\core.py:2820: RuntimeWarning: invalid value encountered in cast\n",
      "  _data = np.array(data, dtype=dtype, copy=copy,\n"
     ]
    }
   ],
   "source": [
    "#случай с одним слоем\n",
    "params={\n",
    "    'shuffle': [True],\n",
    "    'batch_size':[200],\n",
    "    'epochs':[50],\n",
    "    'model__neurons_1':[10, 28, 50],\n",
    "    'model__activation1':[keras.activations.leaky_relu, 'relu','sigmoid','tanh'],\n",
    "    'model__dropout':[0, 0.2,0.5],\n",
    "    'model__learning_rate': [0.1,0.01,0.001],\n",
    "    'model__weight_decay':[0.001, 0.0001,0.00001,0.000001]\n",
    "    }\n",
    "\n",
    "def create_model(neurons_1, activation1, dropout, learning_rate, weight_decay):\n",
    "  model = tf.keras.Sequential([\n",
    "  tf.keras.layers.Input(shape=(28,)),\n",
    "  tf.keras.layers.Dropout(rate=dropout),\n",
    "  tf.keras.layers.Dense(units = neurons_1, activation = activation1, kernel_initializer = tf.keras.initializers.RandomNormal(mean=0.0, stddev=np.sqrt(1/28), seed=None), bias_initializer = tf.keras.initializers.Constant(value=0.01), kernel_regularizer=tf.keras.regularizers.L1(0.01)),\n",
    "  tf.keras.layers.Dropout(rate=dropout),\n",
    "  tf.keras.layers.Dense(units=2,activation='softmax', kernel_initializer = tf.keras.initializers.RandomNormal(mean=0.0, stddev=np.sqrt(1/neurons_1), seed=None), bias_initializer= tf.keras.initializers.Constant(value=0.01), kernel_regularizer=tf.keras.regularizers.L1(0.01))\n",
    "  ])\n",
    "  model.compile(optimizer = tf.keras.optimizers.SGD(learning_rate = learning_rate, weight_decay = weight_decay), #tf.keras.optimizers.Adam(),\n",
    "            loss = 'binary_crossentropy',\n",
    "            metrics=['accuracy']\n",
    "            )\n",
    "  return model\n",
    "\n",
    "ann_model = KerasClassifier(model=create_model, verbose = 0) #по факту для обучения достаточно просто выполнить функцию create_model, но мы делаем эту обёртку чтобы можно было выполнять функции из scikit learn\n",
    "ann_pipe = Pipeline(steps=[\n",
    "    ('scaler', StandardScaler()),\n",
    "    ('KerasClassifier', ann_model)])\n",
    "gs = GridSearchCV(estimator=ann_model, param_grid=params,scoring='accuracy',cv=5,\n",
    "                     n_jobs=1,return_train_score=True,verbose=0)\n",
    "grid_result = gs.fit(X_train.values, to_categorical(y_train))"
   ]
  },
  {
   "cell_type": "code",
   "execution_count": 12,
   "id": "27ef749d",
   "metadata": {},
   "outputs": [
    {
     "data": {
      "text/plain": [
       "{'batch_size': 200,\n",
       " 'epochs': 50,\n",
       " 'model__activation1': <function keras.src.activations.activations.leaky_relu(x, negative_slope=0.2)>,\n",
       " 'model__dropout': 0.2,\n",
       " 'model__learning_rate': 0.1,\n",
       " 'model__neurons_1': 28,\n",
       " 'model__weight_decay': 0.001,\n",
       " 'shuffle': True}"
      ]
     },
     "execution_count": 12,
     "metadata": {},
     "output_type": "execute_result"
    }
   ],
   "source": [
    "grid_result.best_params_"
   ]
  },
  {
   "cell_type": "code",
   "execution_count": 13,
   "id": "1921481e",
   "metadata": {},
   "outputs": [
    {
     "data": {
      "text/plain": [
       "0.6322716235635134"
      ]
     },
     "execution_count": 13,
     "metadata": {},
     "output_type": "execute_result"
    }
   ],
   "source": [
    "grid_result.best_score_"
   ]
  },
  {
   "cell_type": "code",
   "execution_count": null,
   "id": "85a53bc6",
   "metadata": {},
   "outputs": [],
   "source": [
    "#ANN with 2 layers\n",
    "#showing worse results so it doesn't worth to make gridsearch\n",
    "params={\n",
    "    'shuffle': [True],\n",
    "    'batch_size':[200],\n",
    "    'epochs':[50],\n",
    "    'model__neurons_1':[10, 28, 50],\n",
    "    'model__neurons_2':[10, 28, 50],\n",
    "    'model__activation1':[keras.activations.leaky_relu, 'relu','sigmoid','tanh'],\n",
    "    'model__activation2':[keras.activations.leaky_relu, 'relu','sigmoid','tanh'],\n",
    "    'model__dropout':[0, 0.2, 0.5],\n",
    "    'model__learning_rate': [0.1, 0.001],\n",
    "    'model__weight_decay':[0.0001, 0.000001]\n",
    "    }\n",
    "\n",
    "def create_model(neurons_1, neurons_2, activation1, activation2, dropout, learning_rate, weight_decay):\n",
    "  model = tf.keras.Sequential([\n",
    "  tf.keras.layers.Input(shape=(28,)),\n",
    "  tf.keras.layers.Dropout(rate=dropout),\n",
    "  tf.keras.layers.Dense(units = neurons_1, activation = activation1, kernel_initializer = tf.keras.initializers.RandomNormal(mean=0.0, stddev=np.sqrt(1/28), seed=None), bias_initializer = tf.keras.initializers.Constant(value=0.01), kernel_regularizer=tf.keras.regularizers.L1(0.01)),\n",
    "  tf.keras.layers.Dropout(rate=dropout),\n",
    "  tf.keras.layers.Dense(units=neurons_2, activation=activation2, kernel_initializer = tf.keras.initializers.RandomNormal(mean=0.0, stddev=np.sqrt(1/neurons_1), seed=None), bias_initializer = tf.keras.initializers.Constant(value=0.01), kernel_regularizer=tf.keras.regularizers.L1(0.01)),\n",
    "  tf.keras.layers.Dropout(rate=dropout),\n",
    "  tf.keras.layers.Dense(units=2,activation='softmax', kernel_initializer = tf.keras.initializers.RandomNormal(mean=0.0, stddev=np.sqrt(1/neurons_2), seed=None), bias_initializer= tf.keras.initializers.Constant(value=0.01), kernel_regularizer=tf.keras.regularizers.L1(0.01))\n",
    "  ])\n",
    "  model.compile(optimizer = tf.keras.optimizers.SGD(learning_rate = learning_rate, weight_decay = weight_decay), #tf.keras.optimizers.Adam(),\n",
    "            loss = 'binary_crossentropy',\n",
    "            metrics=['accuracy']\n",
    "            )\n",
    "  return model\n",
    "\n",
    "ann_model = KerasClassifier(model=create_model) #по факту для обучения достаточно просто выполнить функцию create_model, но мы делаем эту обёртку чтобы можно было выполнять функции из scikit learn\n",
    "ann_pipe = Pipeline(steps=[\n",
    "    ('scaler', StandardScaler()),\n",
    "    ('KerasClassifier', ann_model)])\n",
    "gs = GridSearchCV(estimator=ann_model, param_grid=params,scoring='accuracy',cv=5,\n",
    "                     n_jobs=1,return_train_score=True,verbose=1)\n",
    "grid_result = gs.fit(X_train.values, to_categorical(y_train))"
   ]
  },
  {
   "cell_type": "code",
   "execution_count": 4,
   "id": "3a757f28",
   "metadata": {},
   "outputs": [],
   "source": [
    "scaler = StandardScaler()\n",
    "scaler.fit(X_train.iloc[:,[0,1,2,3,4,5,6,7,8,9,10,15,16,17,18,19,20,21,22,23,24,25,26,27]])\n",
    "X_train.iloc[:,[0,1,2,3,4,5,6,7,8,9,10,15,16,17,18,19,20,21,22,23,24,25,26,27]] = scaler.transform(X_train.iloc[:,[0,1,2,3,4,5,6,7,8,9,10,15,16,17,18,19,20,21,22,23,24,25,26,27]])\n",
    "X_test.iloc[:,[0,1,2,3,4,5,6,7,8,9,10,15,16,17,18,19,20,21,22,23,24,25,26,27]] = scaler.transform(X_test.iloc[:,[0,1,2,3,4,5,6,7,8,9,10,15,16,17,18,19,20,21,22,23,24,25,26,27]])\n"
   ]
  },
  {
   "cell_type": "code",
   "execution_count": 15,
   "id": "bc42ca4a",
   "metadata": {},
   "outputs": [],
   "source": [
    "xgb_model = xgb.XGBClassifier(\n",
    "   n_estimators = 100,\n",
    "   max_depth = 20,\n",
    "   learning_rate = 0.1,  \n",
    "   objective ='binary:logistic',\n",
    "   early_stopping_rounds = 10,\n",
    "   subsample = 1,\n",
    "   colsample_bytree = 0.5,\n",
    "   reg_alpha = 0,\n",
    "   reg_lambda = 10\n",
    ")\n",
    "xgb_model.fit(\n",
    "    X_train, y_train,\n",
    "    eval_set=[(X_test, y_test)],\n",
    "    verbose=False\n",
    ")\n",
    "preds = xgb_model.predict(X_test)"
   ]
  },
  {
   "cell_type": "code",
   "execution_count": 51,
   "id": "c446367c",
   "metadata": {},
   "outputs": [
    {
     "data": {
      "text/plain": [
       "0.6638005159071367"
      ]
     },
     "execution_count": 51,
     "metadata": {},
     "output_type": "execute_result"
    }
   ],
   "source": [
    "accuracy_score(y_test, preds)  "
   ]
  },
  {
   "cell_type": "code",
   "execution_count": 82,
   "id": "983edb61",
   "metadata": {},
   "outputs": [
    {
     "name": "stderr",
     "output_type": "stream",
     "text": [
      "D:\\anaconda\\envs\\new_env\\lib\\site-packages\\sklearn\\base.py:1473: DataConversionWarning: A column-vector y was passed when a 1d array was expected. Please change the shape of y to (n_samples,), for example using ravel().\n",
      "  return fit_method(estimator, *args, **kwargs)\n"
     ]
    }
   ],
   "source": [
    "rfc_model = RFC(\n",
    "    n_estimators = 350,\n",
    "    criterion = 'entropy',\n",
    "    max_depth = 52,\n",
    "    min_samples_split = 5,\n",
    "    min_samples_leaf = 5,\n",
    "    bootstrap = True,\n",
    "    max_features = 'log2'\n",
    ")\n",
    "rfc_model.fit(\n",
    "    X_train, y_train\n",
    ")\n",
    "preds = rfc_model.predict(X_test)"
   ]
  },
  {
   "cell_type": "code",
   "execution_count": 83,
   "id": "15e4b8bf",
   "metadata": {},
   "outputs": [
    {
     "data": {
      "text/plain": [
       "0.646603611349957"
      ]
     },
     "execution_count": 83,
     "metadata": {},
     "output_type": "execute_result"
    }
   ],
   "source": [
    "accuracy_score(y_test, preds)"
   ]
  },
  {
   "cell_type": "code",
   "execution_count": 54,
   "id": "f8df1f2b",
   "metadata": {},
   "outputs": [
    {
     "name": "stdout",
     "output_type": "stream",
     "text": [
      "[LibSVM]"
     ]
    },
    {
     "data": {
      "text/plain": [
       "0.648323301805675"
      ]
     },
     "execution_count": 54,
     "metadata": {},
     "output_type": "execute_result"
    }
   ],
   "source": [
    "svm_model = svm.SVC(\n",
    "    C = 0.27,\n",
    "    kernel = 'rbf',\n",
    "    verbose = True,\n",
    "    max_iter = 20000,\n",
    "    gamma = 0.25,\n",
    "    probability = True\n",
    ")\n",
    "svm_model.fit(\n",
    "    X_train, y_train['0'].values,\n",
    ")\n",
    "preds = svm_model.predict(X_test)\n",
    "accuracy_score(y_test['0'].values, preds)"
   ]
  },
  {
   "cell_type": "code",
   "execution_count": 20,
   "id": "36060014",
   "metadata": {},
   "outputs": [
    {
     "data": {
      "text/plain": [
       "0.6208082545141874"
      ]
     },
     "execution_count": 20,
     "metadata": {},
     "output_type": "execute_result"
    }
   ],
   "source": [
    "logreg_model = LogisticRegression(C = 0.01, penalty = 'l1', tol = 0.0001, solver = 'saga', max_iter = 100000, random_state = np.random.randint(1000))\n",
    "logreg_model.fit(\n",
    "    X_train, y_train['0'].values,\n",
    ")\n",
    "preds = logreg_model.predict(X_test)\n",
    "accuracy_score(y_test['0'].values, preds)"
   ]
  },
  {
   "cell_type": "code",
   "execution_count": 22,
   "id": "d033a99b",
   "metadata": {},
   "outputs": [],
   "source": [
    "\n",
    "neurons_1 = 28\n",
    "activation_1 = keras.activations.leaky_relu\n",
    "ANN_model = tf.keras.Sequential([\n",
    "    tf.keras.layers.Input(shape=(28,)),\n",
    "    tf.keras.layers.Dropout(rate=0.2),\n",
    "    tf.keras.layers.Dense(units = neurons_1, activation = keras.activations.leaky_relu, kernel_initializer = tf.keras.initializers.RandomNormal(mean=0.0, stddev=np.sqrt(1/28), seed=tf.keras.random.SeedGenerator(seed=42)), bias_initializer = tf.keras.initializers.Constant(value=0.01), kernel_regularizer=tf.keras.regularizers.L1(0.001)),\n",
    "    tf.keras.layers.Dropout(rate=0.2),\n",
    "    tf.keras.layers.Dense(units=2,activation='softmax', kernel_initializer = tf.keras.initializers.RandomNormal(mean=0.0, stddev=np.sqrt(2/neurons_1), seed=tf.keras.random.SeedGenerator(seed=42)), bias_initializer= tf.keras.initializers.Constant(value=0.01), kernel_regularizer=tf.keras.regularizers.L1(0.001))\n",
    "])\n",
    "ANN_model.compile(optimizer = tf.keras.optimizers.SGD(learning_rate = 0.1, weight_decay = 0.001),\n",
    "              loss = 'binary_crossentropy',\n",
    "              metrics=['accuracy']\n",
    "              )\n"
   ]
  },
  {
   "cell_type": "code",
   "execution_count": 23,
   "id": "11c56d68",
   "metadata": {},
   "outputs": [
    {
     "name": "stdout",
     "output_type": "stream",
     "text": [
      "Epoch 1/50\n",
      "\u001b[1m53/53\u001b[0m \u001b[32m━━━━━━━━━━━━━━━━━━━━\u001b[0m\u001b[37m\u001b[0m \u001b[1m2s\u001b[0m 10ms/step - accuracy: 0.5139 - loss: 0.8812 - val_accuracy: 0.6139 - val_loss: 0.7754\n",
      "Epoch 2/50\n",
      "\u001b[1m53/53\u001b[0m \u001b[32m━━━━━━━━━━━━━━━━━━━━\u001b[0m\u001b[37m\u001b[0m \u001b[1m0s\u001b[0m 3ms/step - accuracy: 0.5856 - loss: 0.7993 - val_accuracy: 0.6328 - val_loss: 0.7598\n",
      "Epoch 3/50\n",
      "\u001b[1m53/53\u001b[0m \u001b[32m━━━━━━━━━━━━━━━━━━━━\u001b[0m\u001b[37m\u001b[0m \u001b[1m0s\u001b[0m 3ms/step - accuracy: 0.6024 - loss: 0.7749 - val_accuracy: 0.6354 - val_loss: 0.7523\n",
      "Epoch 4/50\n",
      "\u001b[1m53/53\u001b[0m \u001b[32m━━━━━━━━━━━━━━━━━━━━\u001b[0m\u001b[37m\u001b[0m \u001b[1m0s\u001b[0m 3ms/step - accuracy: 0.6034 - loss: 0.7647 - val_accuracy: 0.6423 - val_loss: 0.7470\n",
      "Epoch 5/50\n",
      "\u001b[1m53/53\u001b[0m \u001b[32m━━━━━━━━━━━━━━━━━━━━\u001b[0m\u001b[37m\u001b[0m \u001b[1m0s\u001b[0m 3ms/step - accuracy: 0.6025 - loss: 0.7594 - val_accuracy: 0.6406 - val_loss: 0.7412\n",
      "Epoch 6/50\n",
      "\u001b[1m53/53\u001b[0m \u001b[32m━━━━━━━━━━━━━━━━━━━━\u001b[0m\u001b[37m\u001b[0m \u001b[1m0s\u001b[0m 4ms/step - accuracy: 0.6076 - loss: 0.7547 - val_accuracy: 0.6440 - val_loss: 0.7369\n",
      "Epoch 7/50\n",
      "\u001b[1m53/53\u001b[0m \u001b[32m━━━━━━━━━━━━━━━━━━━━\u001b[0m\u001b[37m\u001b[0m \u001b[1m0s\u001b[0m 3ms/step - accuracy: 0.6083 - loss: 0.7490 - val_accuracy: 0.6414 - val_loss: 0.7322\n",
      "Epoch 8/50\n",
      "\u001b[1m53/53\u001b[0m \u001b[32m━━━━━━━━━━━━━━━━━━━━\u001b[0m\u001b[37m\u001b[0m \u001b[1m0s\u001b[0m 3ms/step - accuracy: 0.6157 - loss: 0.7398 - val_accuracy: 0.6457 - val_loss: 0.7280\n",
      "Epoch 9/50\n",
      "\u001b[1m53/53\u001b[0m \u001b[32m━━━━━━━━━━━━━━━━━━━━\u001b[0m\u001b[37m\u001b[0m \u001b[1m0s\u001b[0m 3ms/step - accuracy: 0.6190 - loss: 0.7321 - val_accuracy: 0.6432 - val_loss: 0.7244\n",
      "Epoch 10/50\n",
      "\u001b[1m53/53\u001b[0m \u001b[32m━━━━━━━━━━━━━━━━━━━━\u001b[0m\u001b[37m\u001b[0m \u001b[1m0s\u001b[0m 3ms/step - accuracy: 0.6153 - loss: 0.7316 - val_accuracy: 0.6423 - val_loss: 0.7201\n",
      "Epoch 11/50\n",
      "\u001b[1m53/53\u001b[0m \u001b[32m━━━━━━━━━━━━━━━━━━━━\u001b[0m\u001b[37m\u001b[0m \u001b[1m0s\u001b[0m 3ms/step - accuracy: 0.6121 - loss: 0.7275 - val_accuracy: 0.6406 - val_loss: 0.7164\n",
      "Epoch 12/50\n",
      "\u001b[1m53/53\u001b[0m \u001b[32m━━━━━━━━━━━━━━━━━━━━\u001b[0m\u001b[37m\u001b[0m \u001b[1m0s\u001b[0m 3ms/step - accuracy: 0.6122 - loss: 0.7197 - val_accuracy: 0.6475 - val_loss: 0.7136\n",
      "Epoch 13/50\n",
      "\u001b[1m53/53\u001b[0m \u001b[32m━━━━━━━━━━━━━━━━━━━━\u001b[0m\u001b[37m\u001b[0m \u001b[1m0s\u001b[0m 3ms/step - accuracy: 0.6067 - loss: 0.7225 - val_accuracy: 0.6397 - val_loss: 0.7109\n",
      "Epoch 14/50\n",
      "\u001b[1m53/53\u001b[0m \u001b[32m━━━━━━━━━━━━━━━━━━━━\u001b[0m\u001b[37m\u001b[0m \u001b[1m0s\u001b[0m 3ms/step - accuracy: 0.6254 - loss: 0.7112 - val_accuracy: 0.6414 - val_loss: 0.7075\n",
      "Epoch 15/50\n",
      "\u001b[1m53/53\u001b[0m \u001b[32m━━━━━━━━━━━━━━━━━━━━\u001b[0m\u001b[37m\u001b[0m \u001b[1m0s\u001b[0m 3ms/step - accuracy: 0.6133 - loss: 0.7137 - val_accuracy: 0.6466 - val_loss: 0.7044\n",
      "Epoch 16/50\n",
      "\u001b[1m53/53\u001b[0m \u001b[32m━━━━━━━━━━━━━━━━━━━━\u001b[0m\u001b[37m\u001b[0m \u001b[1m0s\u001b[0m 3ms/step - accuracy: 0.6101 - loss: 0.7128 - val_accuracy: 0.6440 - val_loss: 0.7017\n",
      "Epoch 17/50\n",
      "\u001b[1m53/53\u001b[0m \u001b[32m━━━━━━━━━━━━━━━━━━━━\u001b[0m\u001b[37m\u001b[0m \u001b[1m0s\u001b[0m 3ms/step - accuracy: 0.6135 - loss: 0.7074 - val_accuracy: 0.6449 - val_loss: 0.6990\n",
      "Epoch 18/50\n",
      "\u001b[1m53/53\u001b[0m \u001b[32m━━━━━━━━━━━━━━━━━━━━\u001b[0m\u001b[37m\u001b[0m \u001b[1m0s\u001b[0m 3ms/step - accuracy: 0.6148 - loss: 0.7083 - val_accuracy: 0.6423 - val_loss: 0.6965\n",
      "Epoch 19/50\n",
      "\u001b[1m53/53\u001b[0m \u001b[32m━━━━━━━━━━━━━━━━━━━━\u001b[0m\u001b[37m\u001b[0m \u001b[1m0s\u001b[0m 3ms/step - accuracy: 0.6206 - loss: 0.7030 - val_accuracy: 0.6475 - val_loss: 0.6936\n",
      "Epoch 20/50\n",
      "\u001b[1m53/53\u001b[0m \u001b[32m━━━━━━━━━━━━━━━━━━━━\u001b[0m\u001b[37m\u001b[0m \u001b[1m0s\u001b[0m 3ms/step - accuracy: 0.6211 - loss: 0.6955 - val_accuracy: 0.6354 - val_loss: 0.6919\n",
      "Epoch 21/50\n",
      "\u001b[1m53/53\u001b[0m \u001b[32m━━━━━━━━━━━━━━━━━━━━\u001b[0m\u001b[37m\u001b[0m \u001b[1m0s\u001b[0m 3ms/step - accuracy: 0.6199 - loss: 0.6980 - val_accuracy: 0.6457 - val_loss: 0.6894\n",
      "Epoch 22/50\n",
      "\u001b[1m53/53\u001b[0m \u001b[32m━━━━━━━━━━━━━━━━━━━━\u001b[0m\u001b[37m\u001b[0m \u001b[1m0s\u001b[0m 4ms/step - accuracy: 0.6210 - loss: 0.6955 - val_accuracy: 0.6380 - val_loss: 0.6873\n",
      "Epoch 23/50\n",
      "\u001b[1m53/53\u001b[0m \u001b[32m━━━━━━━━━━━━━━━━━━━━\u001b[0m\u001b[37m\u001b[0m \u001b[1m0s\u001b[0m 3ms/step - accuracy: 0.6223 - loss: 0.6911 - val_accuracy: 0.6397 - val_loss: 0.6855\n",
      "Epoch 24/50\n",
      "\u001b[1m53/53\u001b[0m \u001b[32m━━━━━━━━━━━━━━━━━━━━\u001b[0m\u001b[37m\u001b[0m \u001b[1m0s\u001b[0m 3ms/step - accuracy: 0.6131 - loss: 0.6915 - val_accuracy: 0.6389 - val_loss: 0.6842\n",
      "Epoch 25/50\n",
      "\u001b[1m53/53\u001b[0m \u001b[32m━━━━━━━━━━━━━━━━━━━━\u001b[0m\u001b[37m\u001b[0m \u001b[1m0s\u001b[0m 3ms/step - accuracy: 0.6105 - loss: 0.6895 - val_accuracy: 0.6406 - val_loss: 0.6824\n",
      "Epoch 26/50\n",
      "\u001b[1m53/53\u001b[0m \u001b[32m━━━━━━━━━━━━━━━━━━━━\u001b[0m\u001b[37m\u001b[0m \u001b[1m0s\u001b[0m 3ms/step - accuracy: 0.6251 - loss: 0.6846 - val_accuracy: 0.6363 - val_loss: 0.6802\n",
      "Epoch 27/50\n",
      "\u001b[1m53/53\u001b[0m \u001b[32m━━━━━━━━━━━━━━━━━━━━\u001b[0m\u001b[37m\u001b[0m \u001b[1m0s\u001b[0m 3ms/step - accuracy: 0.6179 - loss: 0.6844 - val_accuracy: 0.6440 - val_loss: 0.6786\n",
      "Epoch 28/50\n",
      "\u001b[1m53/53\u001b[0m \u001b[32m━━━━━━━━━━━━━━━━━━━━\u001b[0m\u001b[37m\u001b[0m \u001b[1m0s\u001b[0m 3ms/step - accuracy: 0.6113 - loss: 0.6858 - val_accuracy: 0.6389 - val_loss: 0.6771\n",
      "Epoch 29/50\n",
      "\u001b[1m53/53\u001b[0m \u001b[32m━━━━━━━━━━━━━━━━━━━━\u001b[0m\u001b[37m\u001b[0m \u001b[1m0s\u001b[0m 3ms/step - accuracy: 0.6232 - loss: 0.6832 - val_accuracy: 0.6406 - val_loss: 0.6755\n",
      "Epoch 30/50\n",
      "\u001b[1m53/53\u001b[0m \u001b[32m━━━━━━━━━━━━━━━━━━━━\u001b[0m\u001b[37m\u001b[0m \u001b[1m0s\u001b[0m 3ms/step - accuracy: 0.6121 - loss: 0.6800 - val_accuracy: 0.6432 - val_loss: 0.6743\n",
      "Epoch 31/50\n",
      "\u001b[1m53/53\u001b[0m \u001b[32m━━━━━━━━━━━━━━━━━━━━\u001b[0m\u001b[37m\u001b[0m \u001b[1m0s\u001b[0m 3ms/step - accuracy: 0.6149 - loss: 0.6822 - val_accuracy: 0.6414 - val_loss: 0.6728\n",
      "Epoch 32/50\n",
      "\u001b[1m53/53\u001b[0m \u001b[32m━━━━━━━━━━━━━━━━━━━━\u001b[0m\u001b[37m\u001b[0m \u001b[1m0s\u001b[0m 3ms/step - accuracy: 0.6258 - loss: 0.6744 - val_accuracy: 0.6397 - val_loss: 0.6720\n",
      "Epoch 33/50\n",
      "\u001b[1m53/53\u001b[0m \u001b[32m━━━━━━━━━━━━━━━━━━━━\u001b[0m\u001b[37m\u001b[0m \u001b[1m0s\u001b[0m 3ms/step - accuracy: 0.6162 - loss: 0.6766 - val_accuracy: 0.6406 - val_loss: 0.6714\n",
      "Epoch 34/50\n",
      "\u001b[1m53/53\u001b[0m \u001b[32m━━━━━━━━━━━━━━━━━━━━\u001b[0m\u001b[37m\u001b[0m \u001b[1m0s\u001b[0m 3ms/step - accuracy: 0.6293 - loss: 0.6726 - val_accuracy: 0.6397 - val_loss: 0.6702\n",
      "Epoch 35/50\n",
      "\u001b[1m53/53\u001b[0m \u001b[32m━━━━━━━━━━━━━━━━━━━━\u001b[0m\u001b[37m\u001b[0m \u001b[1m0s\u001b[0m 3ms/step - accuracy: 0.6184 - loss: 0.6720 - val_accuracy: 0.6423 - val_loss: 0.6688\n",
      "Epoch 36/50\n",
      "\u001b[1m53/53\u001b[0m \u001b[32m━━━━━━━━━━━━━━━━━━━━\u001b[0m\u001b[37m\u001b[0m \u001b[1m0s\u001b[0m 3ms/step - accuracy: 0.6207 - loss: 0.6735 - val_accuracy: 0.6397 - val_loss: 0.6683\n",
      "Epoch 37/50\n",
      "\u001b[1m53/53\u001b[0m \u001b[32m━━━━━━━━━━━━━━━━━━━━\u001b[0m\u001b[37m\u001b[0m \u001b[1m0s\u001b[0m 4ms/step - accuracy: 0.6188 - loss: 0.6692 - val_accuracy: 0.6406 - val_loss: 0.6673\n",
      "Epoch 38/50\n",
      "\u001b[1m53/53\u001b[0m \u001b[32m━━━━━━━━━━━━━━━━━━━━\u001b[0m\u001b[37m\u001b[0m \u001b[1m0s\u001b[0m 3ms/step - accuracy: 0.6185 - loss: 0.6727 - val_accuracy: 0.6363 - val_loss: 0.6670\n",
      "Epoch 39/50\n",
      "\u001b[1m53/53\u001b[0m \u001b[32m━━━━━━━━━━━━━━━━━━━━\u001b[0m\u001b[37m\u001b[0m \u001b[1m0s\u001b[0m 3ms/step - accuracy: 0.6162 - loss: 0.6712 - val_accuracy: 0.6406 - val_loss: 0.6659\n",
      "Epoch 40/50\n",
      "\u001b[1m53/53\u001b[0m \u001b[32m━━━━━━━━━━━━━━━━━━━━\u001b[0m\u001b[37m\u001b[0m \u001b[1m0s\u001b[0m 3ms/step - accuracy: 0.6269 - loss: 0.6661 - val_accuracy: 0.6423 - val_loss: 0.6644\n",
      "Epoch 41/50\n",
      "\u001b[1m53/53\u001b[0m \u001b[32m━━━━━━━━━━━━━━━━━━━━\u001b[0m\u001b[37m\u001b[0m \u001b[1m0s\u001b[0m 3ms/step - accuracy: 0.6163 - loss: 0.6707 - val_accuracy: 0.6389 - val_loss: 0.6643\n",
      "Epoch 42/50\n",
      "\u001b[1m53/53\u001b[0m \u001b[32m━━━━━━━━━━━━━━━━━━━━\u001b[0m\u001b[37m\u001b[0m \u001b[1m0s\u001b[0m 3ms/step - accuracy: 0.6229 - loss: 0.6673 - val_accuracy: 0.6363 - val_loss: 0.6647\n",
      "Epoch 43/50\n",
      "\u001b[1m53/53\u001b[0m \u001b[32m━━━━━━━━━━━━━━━━━━━━\u001b[0m\u001b[37m\u001b[0m \u001b[1m0s\u001b[0m 3ms/step - accuracy: 0.6129 - loss: 0.6675 - val_accuracy: 0.6397 - val_loss: 0.6634\n",
      "Epoch 44/50\n",
      "\u001b[1m53/53\u001b[0m \u001b[32m━━━━━━━━━━━━━━━━━━━━\u001b[0m\u001b[37m\u001b[0m \u001b[1m0s\u001b[0m 3ms/step - accuracy: 0.6122 - loss: 0.6696 - val_accuracy: 0.6380 - val_loss: 0.6625\n",
      "Epoch 45/50\n",
      "\u001b[1m53/53\u001b[0m \u001b[32m━━━━━━━━━━━━━━━━━━━━\u001b[0m\u001b[37m\u001b[0m \u001b[1m0s\u001b[0m 4ms/step - accuracy: 0.6256 - loss: 0.6646 - val_accuracy: 0.6432 - val_loss: 0.6620\n",
      "Epoch 46/50\n",
      "\u001b[1m53/53\u001b[0m \u001b[32m━━━━━━━━━━━━━━━━━━━━\u001b[0m\u001b[37m\u001b[0m \u001b[1m0s\u001b[0m 3ms/step - accuracy: 0.6163 - loss: 0.6626 - val_accuracy: 0.6423 - val_loss: 0.6612\n",
      "Epoch 47/50\n",
      "\u001b[1m53/53\u001b[0m \u001b[32m━━━━━━━━━━━━━━━━━━━━\u001b[0m\u001b[37m\u001b[0m \u001b[1m0s\u001b[0m 3ms/step - accuracy: 0.6216 - loss: 0.6667 - val_accuracy: 0.6397 - val_loss: 0.6611\n",
      "Epoch 48/50\n",
      "\u001b[1m53/53\u001b[0m \u001b[32m━━━━━━━━━━━━━━━━━━━━\u001b[0m\u001b[37m\u001b[0m \u001b[1m0s\u001b[0m 3ms/step - accuracy: 0.6155 - loss: 0.6679 - val_accuracy: 0.6406 - val_loss: 0.6613\n",
      "Epoch 49/50\n",
      "\u001b[1m53/53\u001b[0m \u001b[32m━━━━━━━━━━━━━━━━━━━━\u001b[0m\u001b[37m\u001b[0m \u001b[1m0s\u001b[0m 3ms/step - accuracy: 0.6184 - loss: 0.6710 - val_accuracy: 0.6406 - val_loss: 0.6603\n",
      "Epoch 50/50\n",
      "\u001b[1m53/53\u001b[0m \u001b[32m━━━━━━━━━━━━━━━━━━━━\u001b[0m\u001b[37m\u001b[0m \u001b[1m0s\u001b[0m 3ms/step - accuracy: 0.6252 - loss: 0.6642 - val_accuracy: 0.6389 - val_loss: 0.6593\n"
     ]
    },
    {
     "data": {
      "text/plain": [
       "<keras.src.callbacks.history.History at 0x204e4bd6730>"
      ]
     },
     "execution_count": 23,
     "metadata": {},
     "output_type": "execute_result"
    }
   ],
   "source": [
    "ANN_model.fit(X_train.values, to_categorical(y_train), epochs=50, batch_size=200, validation_data=(X_test.values, to_categorical(y_test)), shuffle = True)"
   ]
  },
  {
   "cell_type": "code",
   "execution_count": 36,
   "id": "0f80dc31",
   "metadata": {},
   "outputs": [
    {
     "name": "stdout",
     "output_type": "stream",
     "text": [
      "\u001b[1m328/328\u001b[0m \u001b[32m━━━━━━━━━━━━━━━━━━━━\u001b[0m\u001b[37m\u001b[0m \u001b[1m1s\u001b[0m 2ms/step\n"
     ]
    },
    {
     "data": {
      "text/plain": [
       "array([[0.7701271 , 0.2298729 ],\n",
       "       [0.35971788, 0.6402821 ],\n",
       "       [0.30237567, 0.6976243 ],\n",
       "       ...,\n",
       "       [0.608224  , 0.39177606],\n",
       "       [0.11855842, 0.8814416 ],\n",
       "       [0.24817008, 0.7518299 ]], dtype=float32)"
      ]
     },
     "execution_count": 36,
     "metadata": {},
     "output_type": "execute_result"
    }
   ],
   "source": [
    "model.predict(X_train.values)"
   ]
  },
  {
   "cell_type": "code",
   "execution_count": 37,
   "id": "3a4e71e7",
   "metadata": {},
   "outputs": [
    {
     "data": {
      "text/plain": [
       "[0.6675747036933899, 0.6079105734825134]"
      ]
     },
     "execution_count": 37,
     "metadata": {},
     "output_type": "execute_result"
    }
   ],
   "source": [
    "model.evaluate(X_test.values, to_categorical(y_test), verbose = 0) #first is loss, second is metric(accuracy)"
   ]
  },
  {
   "cell_type": "code",
   "execution_count": 29,
   "id": "442d3ab2",
   "metadata": {},
   "outputs": [],
   "source": [
    "ml_data = pd.read_excel('odds.xlsx')\n",
    "ml_data = ml_data.dropna(subset=['winner_rank', 'loser_rank', 'winner_rank_points', 'loser_rank_points'])\n",
    "\n",
    "df_features = []\n",
    "y = []"
   ]
  },
  {
   "cell_type": "code",
   "execution_count": 30,
   "id": "43573bae",
   "metadata": {},
   "outputs": [],
   "source": [
    "atp_matches_2024 = pd.read_csv('atp_matches_2024.csv')\n",
    "atp_matches_2023 = pd.read_csv('atp_matches_2023.csv')\n",
    "atp_matches_2022 = pd.read_csv('atp_matches_2022.csv')\n",
    "\n",
    "atp_matches_qual_chall_2023 = pd.read_csv('atp_matches_qual_chall_2023.csv')\n",
    "atp_matches_qual_chall_2024 = pd.read_csv('atp_matches_qual_chall_2024.csv')\n",
    "atp_matches_qual_chall_2022 = pd.read_csv('atp_matches_qual_chall_2022.csv')\n",
    "\n",
    "all_data = pd.concat([atp_matches_2024,atp_matches_2023, atp_matches_qual_chall_2024, atp_matches_qual_chall_2023, atp_matches_2022, atp_matches_qual_chall_2022], ignore_index=True)\n",
    "\n",
    "all_data = all_data.dropna(subset=['w_svpt', 'w_1stIn', 'w_1stWon', 'w_2ndWon', 'l_svpt', 'l_1stIn', 'l_1stWon', 'l_2ndWon', 'l_ace', 'w_ace', 'w_df', 'l_df'])\n",
    "\n",
    "all_data['tourney_name'] = all_data['tourney_name'].apply(lambda x: 'Davis Cup' if x.startswith('Davis Cup') else x)\n",
    "all_data = all_data[all_data['tourney_name']!='Davis Cup']\n",
    "all_data = all_data[all_data['tourney_name']!='United Cup']\n",
    "all_data = all_data[all_data['surface'].isin(['Hard','Clay','Grass'])]\n",
    "all_data = all_data[all_data['best_of'] == 3]"
   ]
  },
  {
   "cell_type": "code",
   "execution_count": 31,
   "id": "9efec101",
   "metadata": {},
   "outputs": [],
   "source": [
    "#case 3\n",
    "#statistics of all games + 3 last games\n",
    "#for evaluating predicted odds\n",
    "for ind, row in ml_data.iterrows():\n",
    "  player1 = player_statistics2(all_data.loc[all_data['tourney_date'] < row['tourney_date']], row['winner_name'])\n",
    "  if(player1 == 'no stat'):\n",
    "    continue\n",
    "  player2 = player_statistics2(all_data.loc[all_data['tourney_date'] < row['tourney_date']], row['loser_name'])\n",
    "  if(player2 == 'no stat'):\n",
    "    continue\n",
    "  current_match = [0,0,0]\n",
    "  if(row['surface'] == 'Hard'):\n",
    "    current_match[-3] = 1\n",
    "  elif(row['surface'] == 'Clay'):\n",
    "    current_match[-2] = 1\n",
    "  else:\n",
    "    current_match[-1] = 1\n",
    "\n",
    "  if(row['winner_hand'] == row['loser_hand']):\n",
    "    current_match +=[1]\n",
    "  else:\n",
    "    current_match +=[0]\n",
    "\n",
    "  player1_last = player_statistics_last(all_data.loc[all_data['tourney_date'] < row['tourney_date']], row['winner_name'])\n",
    "  if(player1 == 'no stat'):\n",
    "    continue\n",
    "  player2_last = player_statistics_last(all_data.loc[all_data['tourney_date'] < row['tourney_date']], row['loser_name'])\n",
    "  if(player2 == 'no stat'):\n",
    "    continue\n",
    "\n",
    "  df_features.append([a - b for a, b in zip(player1, player2)] + current_match + [row['winner_rank']-row['loser_rank']] + [row['winner_rank_points'] - row['loser_rank_points']]\\\n",
    "                     + [a - b for a, b in zip(player1_last, player2_last)])\n",
    "  y.append(row[['winner_odds', 'loser_odds']].values)\n",
    "\n"
   ]
  },
  {
   "cell_type": "code",
   "execution_count": 32,
   "id": "a3cf4d17",
   "metadata": {},
   "outputs": [
    {
     "name": "stderr",
     "output_type": "stream",
     "text": [
      "D:\\anaconda\\lib\\site-packages\\sklearn\\base.py:493: UserWarning: X does not have valid feature names, but StandardScaler was fitted with feature names\n",
      "  warnings.warn(\n"
     ]
    }
   ],
   "source": [
    "df_features = pd.DataFrame(df_features)\n",
    "df_features.iloc[:,[0,1,2,3,4,5,6,7,8,9,10,15,16,17,18,19,20,21,22,23,24,25,26,27]] = scaler.transform(df_features.iloc[:,[0,1,2,3,4,5,6,7,8,9,10,15,16,17,18,19,20,21,22,23,24,25,26,27]])"
   ]
  },
  {
   "cell_type": "code",
   "execution_count": 49,
   "id": "d679ca35",
   "metadata": {},
   "outputs": [
    {
     "name": "stdout",
     "output_type": "stream",
     "text": [
      "\u001b[1m7/7\u001b[0m \u001b[32m━━━━━━━━━━━━━━━━━━━━\u001b[0m\u001b[37m\u001b[0m \u001b[1m0s\u001b[0m 2ms/step \n"
     ]
    },
    {
     "data": {
      "text/plain": [
       "array([[0.1771571 , 0.82284284],\n",
       "       [0.9813766 , 0.01862335],\n",
       "       [0.14564484, 0.85435516],\n",
       "       [0.01901831, 0.9809817 ],\n",
       "       [0.38687754, 0.61312246],\n",
       "       [0.4902709 , 0.5097291 ],\n",
       "       [0.2372235 , 0.7627765 ],\n",
       "       [0.01265638, 0.98734367],\n",
       "       [0.3138043 , 0.68619573],\n",
       "       [0.8298115 , 0.17018841],\n",
       "       [0.39632693, 0.6036731 ],\n",
       "       [0.77102125, 0.22897871],\n",
       "       [0.2405218 , 0.75947815],\n",
       "       [0.14716764, 0.8528323 ],\n",
       "       [0.5141121 , 0.48588786],\n",
       "       [0.5525681 , 0.44743186],\n",
       "       [0.36519492, 0.6348051 ],\n",
       "       [0.43334705, 0.5666529 ],\n",
       "       [0.4040639 , 0.59593606],\n",
       "       [0.57046205, 0.42953798],\n",
       "       [0.6157973 , 0.38420272],\n",
       "       [0.5114055 , 0.48859447],\n",
       "       [0.41545418, 0.58454585],\n",
       "       [0.25997716, 0.74002284],\n",
       "       [0.52253604, 0.47746387],\n",
       "       [0.39019158, 0.6098084 ],\n",
       "       [0.6479877 , 0.35201225],\n",
       "       [0.45884332, 0.5411567 ],\n",
       "       [0.65270776, 0.34729218],\n",
       "       [0.366983  , 0.63301694],\n",
       "       [0.34590572, 0.6540942 ],\n",
       "       [0.33667737, 0.6633226 ],\n",
       "       [0.7141597 , 0.2858403 ],\n",
       "       [0.33947396, 0.66052604],\n",
       "       [0.43120378, 0.5687962 ],\n",
       "       [0.56751764, 0.43248227],\n",
       "       [0.77142066, 0.22857936],\n",
       "       [0.50016224, 0.4998377 ],\n",
       "       [0.2454146 , 0.7545854 ],\n",
       "       [0.27917287, 0.7208271 ],\n",
       "       [0.5054968 , 0.49450317],\n",
       "       [0.15455881, 0.8454412 ],\n",
       "       [0.33917302, 0.660827  ],\n",
       "       [0.4652534 , 0.5347466 ],\n",
       "       [0.47848192, 0.5215181 ],\n",
       "       [0.26077357, 0.73922646],\n",
       "       [0.48201662, 0.5179834 ],\n",
       "       [0.54490167, 0.45509833],\n",
       "       [0.3883239 , 0.6116761 ],\n",
       "       [0.3400629 , 0.65993714],\n",
       "       [0.5048561 , 0.49514392],\n",
       "       [0.25337893, 0.7466211 ],\n",
       "       [0.30511242, 0.6948876 ],\n",
       "       [0.3325322 , 0.6674678 ],\n",
       "       [0.2918679 , 0.708132  ],\n",
       "       [0.02177302, 0.97822696],\n",
       "       [0.547308  , 0.4526919 ],\n",
       "       [0.34231114, 0.65768886],\n",
       "       [0.4149535 , 0.58504647],\n",
       "       [0.28428257, 0.7157174 ],\n",
       "       [0.38528535, 0.6147146 ],\n",
       "       [0.285879  , 0.714121  ],\n",
       "       [0.2814378 , 0.7185622 ],\n",
       "       [0.24200653, 0.7579935 ],\n",
       "       [0.65586716, 0.34413287],\n",
       "       [0.4720328 , 0.5279672 ],\n",
       "       [0.5881497 , 0.4118502 ],\n",
       "       [0.09251617, 0.9074838 ],\n",
       "       [0.7053355 , 0.29466447],\n",
       "       [0.7578018 , 0.24219824],\n",
       "       [0.63945174, 0.3605483 ],\n",
       "       [0.28458163, 0.71541834],\n",
       "       [0.38038212, 0.61961794],\n",
       "       [0.43927178, 0.5607282 ],\n",
       "       [0.305564  , 0.694436  ],\n",
       "       [0.46074092, 0.5392591 ],\n",
       "       [0.3846111 , 0.61538893],\n",
       "       [0.32956654, 0.67043346],\n",
       "       [0.41234237, 0.58765763],\n",
       "       [0.36413312, 0.6358669 ],\n",
       "       [0.34954318, 0.65045685],\n",
       "       [0.5868048 , 0.4131952 ],\n",
       "       [0.2801832 , 0.71981686],\n",
       "       [0.2571345 , 0.7428655 ],\n",
       "       [0.4463252 , 0.55367476],\n",
       "       [0.43440562, 0.5655943 ],\n",
       "       [0.19111638, 0.80888355],\n",
       "       [0.4553465 , 0.54465353],\n",
       "       [0.51755095, 0.48244897],\n",
       "       [0.26384643, 0.73615354],\n",
       "       [0.5570925 , 0.44290754],\n",
       "       [0.33866897, 0.66133106],\n",
       "       [0.7217147 , 0.2782853 ],\n",
       "       [0.19642909, 0.8035709 ],\n",
       "       [0.3787901 , 0.6212099 ],\n",
       "       [0.43963182, 0.5603682 ],\n",
       "       [0.70252734, 0.2974727 ],\n",
       "       [0.28543308, 0.7145669 ],\n",
       "       [0.80428207, 0.19571795],\n",
       "       [0.52833605, 0.47166395],\n",
       "       [0.2075561 , 0.7924439 ],\n",
       "       [0.5959407 , 0.40405932],\n",
       "       [0.25232074, 0.7476793 ],\n",
       "       [0.37542677, 0.62457323],\n",
       "       [0.4499688 , 0.5500312 ],\n",
       "       [0.3506409 , 0.6493591 ],\n",
       "       [0.53818244, 0.4618176 ],\n",
       "       [0.5436044 , 0.4563956 ],\n",
       "       [0.6682954 , 0.3317046 ],\n",
       "       [0.16540869, 0.8345914 ],\n",
       "       [0.61625123, 0.38374874],\n",
       "       [0.695523  , 0.30447698],\n",
       "       [0.3592129 , 0.6407871 ],\n",
       "       [0.13966149, 0.86033845],\n",
       "       [0.35618782, 0.6438122 ],\n",
       "       [0.21265428, 0.7873457 ],\n",
       "       [0.25385797, 0.74614197],\n",
       "       [0.05231164, 0.9476884 ],\n",
       "       [0.9788422 , 0.02115786],\n",
       "       [0.7896354 , 0.21036465],\n",
       "       [0.34663144, 0.65336853],\n",
       "       [0.97334146, 0.02665853],\n",
       "       [0.77021986, 0.2297801 ],\n",
       "       [0.28652734, 0.7134726 ],\n",
       "       [0.31710622, 0.68289375],\n",
       "       [0.40164536, 0.59835464],\n",
       "       [0.33654487, 0.6634551 ],\n",
       "       [0.9668601 , 0.03313985],\n",
       "       [0.6517712 , 0.34822878],\n",
       "       [0.3122177 , 0.6877823 ],\n",
       "       [0.2919857 , 0.7080143 ],\n",
       "       [0.6215434 , 0.37845668],\n",
       "       [0.5515614 , 0.44843856],\n",
       "       [0.5366242 , 0.46337578],\n",
       "       [0.30283868, 0.6971614 ],\n",
       "       [0.48239186, 0.51760817],\n",
       "       [0.6621629 , 0.33783707],\n",
       "       [0.21140552, 0.7885944 ],\n",
       "       [0.90944993, 0.09055004],\n",
       "       [0.35325935, 0.6467407 ],\n",
       "       [0.48366117, 0.5163388 ],\n",
       "       [0.5998037 , 0.40019628],\n",
       "       [0.142837  , 0.85716295],\n",
       "       [0.03118625, 0.9688138 ],\n",
       "       [0.22596805, 0.77403194],\n",
       "       [0.5145931 , 0.48540694],\n",
       "       [0.50796664, 0.49203333],\n",
       "       [0.3640668 , 0.6359332 ],\n",
       "       [0.2762109 , 0.7237891 ],\n",
       "       [0.08948884, 0.9105111 ],\n",
       "       [0.17177232, 0.8282277 ],\n",
       "       [0.63462883, 0.3653712 ],\n",
       "       [0.88468283, 0.11531712],\n",
       "       [0.04927723, 0.95072275],\n",
       "       [0.8925421 , 0.10745785],\n",
       "       [0.11970226, 0.8802977 ],\n",
       "       [0.42576438, 0.57423556],\n",
       "       [0.14703444, 0.8529656 ],\n",
       "       [0.07310533, 0.92689466],\n",
       "       [0.7167315 , 0.28326854],\n",
       "       [0.4060103 , 0.5939896 ],\n",
       "       [0.6145115 , 0.38548848],\n",
       "       [0.44016922, 0.55983084],\n",
       "       [0.23155354, 0.76844645],\n",
       "       [0.5388168 , 0.46118316],\n",
       "       [0.6666806 , 0.33331951],\n",
       "       [0.16736476, 0.8326353 ],\n",
       "       [0.46431288, 0.5356871 ],\n",
       "       [0.47445503, 0.5255449 ],\n",
       "       [0.846445  , 0.15355496],\n",
       "       [0.48893297, 0.51106703],\n",
       "       [0.6721048 , 0.32789522],\n",
       "       [0.23787059, 0.7621294 ],\n",
       "       [0.7014772 , 0.29852277],\n",
       "       [0.8574508 , 0.14254923],\n",
       "       [0.17500035, 0.82499963],\n",
       "       [0.2618778 , 0.73812217],\n",
       "       [0.5477814 , 0.45221865],\n",
       "       [0.381607  , 0.618393  ],\n",
       "       [0.7028738 , 0.29712614],\n",
       "       [0.3720617 , 0.62793833],\n",
       "       [0.0945776 , 0.9054224 ],\n",
       "       [0.5605967 , 0.43940327],\n",
       "       [0.7739274 , 0.2260726 ],\n",
       "       [0.7022594 , 0.2977406 ],\n",
       "       [0.28624287, 0.71375716],\n",
       "       [0.32327822, 0.67672175],\n",
       "       [0.23214585, 0.76785415],\n",
       "       [0.8121362 , 0.18786387],\n",
       "       [0.61743855, 0.38256145],\n",
       "       [0.83474433, 0.1652557 ],\n",
       "       [0.31232512, 0.68767494],\n",
       "       [0.24801521, 0.75198483],\n",
       "       [0.80211926, 0.19788074],\n",
       "       [0.0141137 , 0.98588634],\n",
       "       [0.31411433, 0.68588567],\n",
       "       [0.19194265, 0.8080573 ]], dtype=float32)"
      ]
     },
     "execution_count": 49,
     "metadata": {},
     "output_type": "execute_result"
    }
   ],
   "source": [
    "predictions = ANN_model.predict(df_features)\n",
    "predictions"
   ]
  },
  {
   "cell_type": "code",
   "execution_count": 50,
   "id": "12c736fa",
   "metadata": {},
   "outputs": [
    {
     "data": {
      "text/plain": [
       "0.020652173913043477"
      ]
     },
     "execution_count": 50,
     "metadata": {},
     "output_type": "execute_result"
    }
   ],
   "source": [
    "#for ANN\n",
    "bet = 0\n",
    "revenue = 0\n",
    "for i in range(len(predictions)):\n",
    "  if(1/predictions[i][0]<y[i][0]):\n",
    "    bet+=1\n",
    "    revenue = y[i][0]\n",
    "  elif(1/predictions[i][1]<y[i][1]):\n",
    "    bet+=1\n",
    "revenue/bet\n",
    "#ROI"
   ]
  },
  {
   "cell_type": "code",
   "execution_count": 57,
   "id": "f7820402",
   "metadata": {},
   "outputs": [
    {
     "data": {
      "text/plain": [
       "array([[0.07138216, 0.92861784],\n",
       "       [0.4685927 , 0.5314073 ],\n",
       "       [0.10583788, 0.8941621 ],\n",
       "       [0.18692571, 0.8130743 ],\n",
       "       [0.39392912, 0.6060709 ],\n",
       "       [0.37944812, 0.6205519 ],\n",
       "       [0.1373359 , 0.8626641 ],\n",
       "       [0.10798854, 0.89201146],\n",
       "       [0.3870064 , 0.6129936 ],\n",
       "       [0.8150186 , 0.18498139],\n",
       "       [0.45516092, 0.5448391 ],\n",
       "       [0.68469024, 0.3153098 ],\n",
       "       [0.08998466, 0.91001534],\n",
       "       [0.07195622, 0.9280438 ],\n",
       "       [0.37458187, 0.6254181 ],\n",
       "       [0.55401105, 0.44598895],\n",
       "       [0.4505961 , 0.5494039 ],\n",
       "       [0.26069504, 0.73930496],\n",
       "       [0.39981782, 0.6001822 ],\n",
       "       [0.5016795 , 0.49832052],\n",
       "       [0.47553444, 0.52446556],\n",
       "       [0.3728683 , 0.6271317 ],\n",
       "       [0.19425738, 0.8057426 ],\n",
       "       [0.15441972, 0.8455803 ],\n",
       "       [0.4637249 , 0.5362751 ],\n",
       "       [0.3480022 , 0.6519978 ],\n",
       "       [0.37113732, 0.6288627 ],\n",
       "       [0.53517723, 0.46482277],\n",
       "       [0.43965876, 0.56034124],\n",
       "       [0.2197665 , 0.7802335 ],\n",
       "       [0.12699223, 0.8730078 ],\n",
       "       [0.22101712, 0.7789829 ],\n",
       "       [0.50316316, 0.49683684],\n",
       "       [0.41812742, 0.5818726 ],\n",
       "       [0.39716256, 0.60283744],\n",
       "       [0.5175805 , 0.48241952],\n",
       "       [0.7756396 , 0.22436042],\n",
       "       [0.44116658, 0.5588334 ],\n",
       "       [0.17234826, 0.82765174],\n",
       "       [0.1224438 , 0.8775562 ],\n",
       "       [0.44601375, 0.55398625],\n",
       "       [0.0978359 , 0.9021641 ],\n",
       "       [0.16770136, 0.83229864],\n",
       "       [0.3060636 , 0.6939364 ],\n",
       "       [0.49466628, 0.5053337 ],\n",
       "       [0.19713026, 0.80286974],\n",
       "       [0.39430577, 0.60569423],\n",
       "       [0.5920831 , 0.40791687],\n",
       "       [0.2831112 , 0.7168888 ],\n",
       "       [0.2501713 , 0.7498287 ],\n",
       "       [0.23277652, 0.7672235 ],\n",
       "       [0.06636822, 0.9336318 ],\n",
       "       [0.14367706, 0.85632294],\n",
       "       [0.3083887 , 0.6916113 ],\n",
       "       [0.18351895, 0.81648105],\n",
       "       [0.0825308 , 0.9174692 ],\n",
       "       [0.5686477 , 0.43135232],\n",
       "       [0.13566196, 0.86433804],\n",
       "       [0.41916597, 0.58083403],\n",
       "       [0.08700514, 0.91299486],\n",
       "       [0.22488767, 0.77511233],\n",
       "       [0.10046464, 0.89953536],\n",
       "       [0.09919673, 0.90080327],\n",
       "       [0.17778939, 0.8222106 ],\n",
       "       [0.42558962, 0.5744104 ],\n",
       "       [0.62100685, 0.37899312],\n",
       "       [0.3858781 , 0.6141219 ],\n",
       "       [0.07094991, 0.9290501 ],\n",
       "       [0.33524132, 0.6647587 ],\n",
       "       [0.34165132, 0.6583487 ],\n",
       "       [0.41675073, 0.5832493 ],\n",
       "       [0.1339404 , 0.8660596 ],\n",
       "       [0.3558514 , 0.6441486 ],\n",
       "       [0.5870428 , 0.41295722],\n",
       "       [0.20267439, 0.7973256 ],\n",
       "       [0.2876296 , 0.7123704 ],\n",
       "       [0.2634616 , 0.7365384 ],\n",
       "       [0.28580225, 0.71419775],\n",
       "       [0.4845308 , 0.5154692 ],\n",
       "       [0.41316897, 0.58683103],\n",
       "       [0.24810523, 0.7518948 ],\n",
       "       [0.592188  , 0.40781197],\n",
       "       [0.17495996, 0.82504004],\n",
       "       [0.33543795, 0.66456205],\n",
       "       [0.58369625, 0.41630372],\n",
       "       [0.30192447, 0.69807553],\n",
       "       [0.1531136 , 0.8468864 ],\n",
       "       [0.3641345 , 0.6358655 ],\n",
       "       [0.37403905, 0.62596095],\n",
       "       [0.43995786, 0.56004214],\n",
       "       [0.39128512, 0.6087149 ],\n",
       "       [0.2620756 , 0.7379244 ],\n",
       "       [0.33891648, 0.6610835 ],\n",
       "       [0.14812571, 0.8518743 ],\n",
       "       [0.47320002, 0.5268    ],\n",
       "       [0.51377684, 0.48622316],\n",
       "       [0.560585  , 0.439415  ],\n",
       "       [0.16189176, 0.83810824],\n",
       "       [0.40321577, 0.59678423],\n",
       "       [0.46972895, 0.53027105],\n",
       "       [0.10026532, 0.8997347 ],\n",
       "       [0.49111044, 0.50888956],\n",
       "       [0.19356465, 0.80643535],\n",
       "       [0.29222822, 0.7077718 ],\n",
       "       [0.37114882, 0.6288512 ],\n",
       "       [0.42451125, 0.57548875],\n",
       "       [0.51934004, 0.48066   ],\n",
       "       [0.5322316 , 0.46776837],\n",
       "       [0.42291492, 0.5770851 ],\n",
       "       [0.17606688, 0.8239331 ],\n",
       "       [0.24070251, 0.7592975 ],\n",
       "       [0.3828687 , 0.6171313 ],\n",
       "       [0.35888296, 0.64111704],\n",
       "       [0.25206423, 0.7479358 ],\n",
       "       [0.36977285, 0.63022715],\n",
       "       [0.33277005, 0.66722995],\n",
       "       [0.10333478, 0.8966652 ],\n",
       "       [0.19002932, 0.8099707 ],\n",
       "       [0.8715856 , 0.12841439],\n",
       "       [0.628526  , 0.37147403],\n",
       "       [0.16101027, 0.83898973],\n",
       "       [0.87798154, 0.12201844],\n",
       "       [0.6525387 , 0.34746128],\n",
       "       [0.45214033, 0.54785967],\n",
       "       [0.1802457 , 0.8197543 ],\n",
       "       [0.40927   , 0.59073   ],\n",
       "       [0.3573177 , 0.6426823 ],\n",
       "       [0.9197159 , 0.0802841 ],\n",
       "       [0.6427205 , 0.35727948],\n",
       "       [0.22888786, 0.77111214],\n",
       "       [0.23308241, 0.7669176 ],\n",
       "       [0.4421128 , 0.5578872 ],\n",
       "       [0.38811457, 0.6118854 ],\n",
       "       [0.37562168, 0.6243783 ],\n",
       "       [0.27790284, 0.72209716],\n",
       "       [0.3427059 , 0.6572941 ],\n",
       "       [0.55556196, 0.44443804],\n",
       "       [0.16764826, 0.83235174],\n",
       "       [0.740273  , 0.25972697],\n",
       "       [0.21571839, 0.7842816 ],\n",
       "       [0.2994398 , 0.7005602 ],\n",
       "       [0.42254013, 0.5774599 ],\n",
       "       [0.17960227, 0.82039773],\n",
       "       [0.06800753, 0.9319925 ],\n",
       "       [0.18839681, 0.8116032 ],\n",
       "       [0.5169239 , 0.48307607],\n",
       "       [0.3034588 , 0.6965412 ],\n",
       "       [0.18769264, 0.81230736],\n",
       "       [0.24238831, 0.7576117 ],\n",
       "       [0.16556662, 0.8344334 ],\n",
       "       [0.13769668, 0.8623033 ],\n",
       "       [0.48713684, 0.51286316],\n",
       "       [0.340591  , 0.659409  ],\n",
       "       [0.08172756, 0.91827244],\n",
       "       [0.26719064, 0.73280936],\n",
       "       [0.14938611, 0.8506139 ],\n",
       "       [0.3322081 , 0.6677919 ],\n",
       "       [0.22365773, 0.7763423 ],\n",
       "       [0.58992827, 0.41007173],\n",
       "       [0.5689938 , 0.43100622],\n",
       "       [0.2588303 , 0.7411697 ],\n",
       "       [0.13271302, 0.867287  ],\n",
       "       [0.62746716, 0.37253284],\n",
       "       [0.13817048, 0.8618295 ],\n",
       "       [0.35622633, 0.6437737 ],\n",
       "       [0.33921003, 0.66078997],\n",
       "       [0.11379313, 0.88620687],\n",
       "       [0.279527  , 0.720473  ],\n",
       "       [0.1818468 , 0.8181532 ],\n",
       "       [0.6551622 , 0.34483775],\n",
       "       [0.5240269 , 0.47597316],\n",
       "       [0.2929073 , 0.7070927 ],\n",
       "       [0.28248745, 0.71751255],\n",
       "       [0.3419494 , 0.6580506 ],\n",
       "       [0.7770995 , 0.22290048],\n",
       "       [0.17495298, 0.825047  ],\n",
       "       [0.3753007 , 0.6246993 ],\n",
       "       [0.2802289 , 0.7197711 ],\n",
       "       [0.42500556, 0.57499444],\n",
       "       [0.32700402, 0.672996  ],\n",
       "       [0.28369415, 0.71630585],\n",
       "       [0.08943969, 0.9105603 ],\n",
       "       [0.39149463, 0.60850537],\n",
       "       [0.80432147, 0.19567855],\n",
       "       [0.5349543 , 0.46504572],\n",
       "       [0.4939708 , 0.5060292 ],\n",
       "       [0.4644472 , 0.5355528 ],\n",
       "       [0.29485095, 0.70514905],\n",
       "       [0.76435006, 0.23564994],\n",
       "       [0.36684883, 0.6331512 ],\n",
       "       [0.690104  , 0.309896  ],\n",
       "       [0.16767806, 0.83232194],\n",
       "       [0.17071211, 0.8292879 ],\n",
       "       [0.76937675, 0.23062328],\n",
       "       [0.09056497, 0.90943503],\n",
       "       [0.23405993, 0.76594007],\n",
       "       [0.07592332, 0.9240767 ]], dtype=float32)"
      ]
     },
     "execution_count": 57,
     "metadata": {},
     "output_type": "execute_result"
    }
   ],
   "source": [
    "predictions = xgb_model.predict_proba(df_features)\n",
    "predictions"
   ]
  },
  {
   "cell_type": "code",
   "execution_count": 58,
   "id": "5a849fb8",
   "metadata": {},
   "outputs": [
    {
     "data": {
      "text/plain": [
       "0.020320855614973262"
      ]
     },
     "execution_count": 58,
     "metadata": {},
     "output_type": "execute_result"
    }
   ],
   "source": [
    "#for xgb\n",
    "bet = 0\n",
    "revenue = 0\n",
    "for i in range(len(predictions)):\n",
    "  if(1/predictions[i][0]<y[i][0]):\n",
    "    bet+=1\n",
    "    revenue = y[i][0]\n",
    "  elif(1/predictions[i][1]<y[i][1]):\n",
    "    bet+=1\n",
    "revenue/bet\n",
    "#ROI"
   ]
  },
  {
   "cell_type": "code",
   "execution_count": 6,
   "id": "bc8b4c35",
   "metadata": {},
   "outputs": [
    {
     "name": "stdout",
     "output_type": "stream",
     "text": [
      "Requirement already satisfied: umap-learn in d:\\anaconda\\lib\\site-packages (0.5.6)\n",
      "Requirement already satisfied: scipy>=1.3.1 in d:\\anaconda\\lib\\site-packages (from umap-learn) (1.7.3)\n",
      "Requirement already satisfied: numba>=0.51.2 in d:\\anaconda\\lib\\site-packages (from umap-learn) (0.55.1)\n",
      "Requirement already satisfied: numpy>=1.17 in d:\\anaconda\\lib\\site-packages (from umap-learn) (1.21.6)\n",
      "Requirement already satisfied: pynndescent>=0.5 in d:\\anaconda\\lib\\site-packages (from umap-learn) (0.5.13)\n",
      "Requirement already satisfied: tqdm in d:\\anaconda\\lib\\site-packages (from umap-learn) (4.64.0)\n",
      "Requirement already satisfied: scikit-learn>=0.22 in d:\\anaconda\\lib\\site-packages (from umap-learn) (1.5.1)\n",
      "Requirement already satisfied: setuptools in d:\\anaconda\\lib\\site-packages (from numba>=0.51.2->umap-learn) (61.2.0)\n",
      "Requirement already satisfied: llvmlite<0.39,>=0.38.0rc1 in d:\\anaconda\\lib\\site-packages (from numba>=0.51.2->umap-learn) (0.38.0)\n",
      "Requirement already satisfied: joblib>=0.11 in d:\\anaconda\\lib\\site-packages (from pynndescent>=0.5->umap-learn) (1.4.2)\n",
      "Requirement already satisfied: threadpoolctl>=3.1.0 in d:\\anaconda\\lib\\site-packages (from scikit-learn>=0.22->umap-learn) (3.5.0)\n",
      "Requirement already satisfied: colorama in d:\\anaconda\\lib\\site-packages (from tqdm->umap-learn) (0.4.4)\n",
      "Note: you may need to restart the kernel to use updated packages.\n"
     ]
    }
   ],
   "source": [
    "pip install umap-learn"
   ]
  },
  {
   "cell_type": "code",
   "execution_count": 5,
   "id": "5b14e4ad",
   "metadata": {},
   "outputs": [
    {
     "name": "stderr",
     "output_type": "stream",
     "text": [
      "D:\\anaconda\\envs\\new_env\\lib\\site-packages\\tqdm\\auto.py:22: TqdmWarning: IProgress not found. Please update jupyter and ipywidgets. See https://ipywidgets.readthedocs.io/en/stable/user_install.html\n",
      "  from .autonotebook import tqdm as notebook_tqdm\n"
     ]
    }
   ],
   "source": [
    "import umap\n",
    "manifold = umap.UMAP(n_components = 2).fit(X_train, y_train)\n",
    "X_train_reduced = manifold.transform(X_train)\n",
    "X_test_reduced = manifold.transform(X_test)"
   ]
  },
  {
   "cell_type": "code",
   "execution_count": 15,
   "id": "12d5e2ea",
   "metadata": {},
   "outputs": [
    {
     "data": {
      "image/png": "[encoded data removed]",
      "text/plain": [
       "<Figure size 432x288 with 1 Axes>"
      ]
     },
     "metadata": {
      "needs_background": "light"
     },
     "output_type": "display_data"
    }
   ],
   "source": [
    "plt.scatter(X_train_reduced[:, 0], X_train_reduced[:, 1], c= np.where(y_train['0'].values == 1, 'red', 'blue'), s=0.5);"
   ]
  }
 ],
 "metadata": {
  "kernelspec": {
   "display_name": "Python 3 (ipykernel)",
   "language": "python",
   "name": "python3"
  },
  "language_info": {
   "codemirror_mode": {
    "name": "ipython",
    "version": 3
   },
   "file_extension": ".py",
   "mimetype": "text/x-python",
   "name": "python",
   "nbconvert_exporter": "python",
   "pygments_lexer": "ipython3",
   "version": "3.10.4"
  }
 },
 "nbformat": 4,
 "nbformat_minor": 5
}
